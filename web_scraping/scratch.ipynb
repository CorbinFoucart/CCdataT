{
 "cells": [
  {
   "cell_type": "code",
   "execution_count": 1,
   "metadata": {},
   "outputs": [],
   "source": [
    "import requests\n",
    "import bs4"
   ]
  },
  {
   "cell_type": "code",
   "execution_count": 2,
   "metadata": {},
   "outputs": [],
   "source": [
    "def create_roundtrip_flight_request(start_date, end_date):\n",
    "    base_url = 'https://www.expedia.com/Flights-Search?'\n",
    "    start_end = 'flight-type=on&starDate={}%2F{}%2F{}&endDate={}%2F{}%2F{}'.format(*start_date, *end_date)\n",
    "    endpoints_url = '&mode=search&trip=roundtrip&leg1=from%3ANew+York%2C+NY+%28JFK-John+F.+Kennedy+Intl.%29%2Cto%3AHong+Kong%2C+Hong+Kong+SAR+%28HKG-Hong+Kong+Intl.'\n",
    "    arr_dept = '%29%2C%3A{}%2F{}%2F{}TANYT&leg2=from%3AHong+Kong%2C+Hong+Kong+SAR+%28HKG-Hong+Kong+Intl.%29%2Cto%3ANew+York%2C+NY+%28JFK-John+F.+Kennedy+Intl.%29%2Cdeparture%3A{}%2F{}%2F{}TANYT'.format(*start_date, *end_date)\n",
    "    passenger_options = '&passengers=children%3A0%2Cadults%3A1%2Cseniors%3A0%2Cinfantinlap%3AY'\n",
    "    return base_url + start_end + endpoints_url + arr_dept + passenger_options\n"
   ]
  },
  {
   "cell_type": "markdown",
   "metadata": {},
   "source": [
    "base url = \n",
    "https://www.expedia.com/Flights-Search?\n",
    "\n",
    "flighttype=on&starDate=03%2F01%2F2019&endDate=03%2F08%2F2019&mode=search\n",
    "\n",
    "&trip=roundtrip&leg1=from%3ANew+York%2C+NY+%28JFKJohn+F.+Kennedy+Intl.%29%2Cto%3AHong+Kong%2C+Hong+Kong+SAR+%28HKG-Hong+Kong+Intl.%29%2Cdeparture%3A03%2F01%2F2019TANYT\n",
    "\n",
    "&leg2=from%3AHong+Kong%2C+Hong+Kong+SAR+%28HKG-Hong+Kong+Intl.%29%2Cto%3ANew+York%2C+NY+%28JFK-John+F.+Kennedy+Intl.%29%2Cdeparture%3A03%2F08%2F2019TANYT\n",
    "\n",
    "&passengers=children%3A0%2Cadults%3A1%2Cseniors%3A0%2Cinfantinlap%3AY"
   ]
  },
  {
   "cell_type": "code",
   "execution_count": 3,
   "metadata": {},
   "outputs": [],
   "source": [
    "def create_request_url(start_date, end_date):\n",
    "    base_url = 'https://www.expedia.com/Flights-Search?'\n",
    "    flight_dates = 'flighttype=on&starDate={}%2F{}%2F{}&endDate={}%2F{}%2F{}&mode=search&trip=roundtrip'.format(*start_date,*end_date)\n",
    "    leg1 = '&leg1=from%3ANew+York%2C+NY+%28JFKJohn+F.+Kennedy+Intl.%29%2Cto%3AHong+Kong%2C+Hong+Kong+SAR+%28HKG-Hong+Kong+Intl.%29%2Cdeparture%3A{}%2F{}%2F{}TANYT'.format(*start_date)\n",
    "    leg2 = '&leg2=from%3AHong+Kong%2C+Hong+Kong+SAR+%28HKG-Hong+Kong+Intl.%29%2Cto%3ANew+York%2C+NY+%28JFK-John+F.+Kennedy+Intl.%29%2Cdeparture%3A{}%2F{}%2F{}TANYT'.format(*end_date)\n",
    "    passenger_options = '&passengers=children%3A0%2Cadults%3A1%2Cseniors%3A0%2Cinfantinlap%3AY'\n",
    "    request_url = base_url + flight_dates + leg1 + leg2 + passenger_options\n",
    "    return request_url\n",
    "    "
   ]
  },
  {
   "cell_type": "code",
   "execution_count": 4,
   "metadata": {},
   "outputs": [],
   "source": [
    "start_date = ('04', '01', '2019')\n",
    "end_date = ('04', '08', '2019')"
   ]
  },
  {
   "cell_type": "code",
   "execution_count": 5,
   "metadata": {},
   "outputs": [
    {
     "name": "stdout",
     "output_type": "stream",
     "text": [
      "pinging expedia...\n",
      "https://www.expedia.com/Flights-Search?flighttype=on&starDate=04%2F01%2F2019&endDate=04%2F08%2F2019&mode=search&trip=roundtrip&leg1=from%3ANew+York%2C+NY+%28JFKJohn+F.+Kennedy+Intl.%29%2Cto%3AHong+Kong%2C+Hong+Kong+SAR+%28HKG-Hong+Kong+Intl.%29%2Cdeparture%3A04%2F01%2F2019TANYT&leg2=from%3AHong+Kong%2C+Hong+Kong+SAR+%28HKG-Hong+Kong+Intl.%29%2Cto%3ANew+York%2C+NY+%28JFK-John+F.+Kennedy+Intl.%29%2Cdeparture%3A04%2F08%2F2019TANYT&passengers=children%3A0%2Cadults%3A1%2Cseniors%3A0%2Cinfantinlap%3AY\n",
      "<Response [200]>\n",
      "parsing results...\n"
     ]
    }
   ],
   "source": [
    "# ping expedia and get page HTML\n",
    "print('pinging expedia...')\n",
    "url = create_request_url(start_date, end_date)\n",
    "print(url)\n",
    "\n",
    "page = requests.get(url, headers = {'User-agent': 'Mozilla/5.0'})\n",
    "print(page)\n",
    "\n",
    "print('parsing results...')\n",
    "bs = bs4.BeautifulSoup(page.content, 'html.parser')\n",
    "#spans = bs.findAll(name='span', attrs={'data-test-id':'listing-price-dollars'})"
   ]
  },
  {
   "cell_type": "code",
   "execution_count": 6,
   "metadata": {},
   "outputs": [],
   "source": [
    "from selenium import webdriver"
   ]
  },
  {
   "cell_type": "code",
   "execution_count": 7,
   "metadata": {},
   "outputs": [
    {
     "data": {
      "text/plain": [
       "'https://www.expedia.com/Flights-Search?flighttype=on&starDate=04%2F01%2F2019&endDate=04%2F08%2F2019&mode=search&trip=roundtrip&leg1=from%3ANew+York%2C+NY+%28JFKJohn+F.+Kennedy+Intl.%29%2Cto%3AHong+Kong%2C+Hong+Kong+SAR+%28HKG-Hong+Kong+Intl.%29%2Cdeparture%3A04%2F01%2F2019TANYT&leg2=from%3AHong+Kong%2C+Hong+Kong+SAR+%28HKG-Hong+Kong+Intl.%29%2Cto%3ANew+York%2C+NY+%28JFK-John+F.+Kennedy+Intl.%29%2Cdeparture%3A04%2F08%2F2019TANYT&passengers=children%3A0%2Cadults%3A1%2Cseniors%3A0%2Cinfantinlap%3AY'"
      ]
     },
     "execution_count": 7,
     "metadata": {},
     "output_type": "execute_result"
    }
   ],
   "source": [
    "url"
   ]
  },
  {
   "cell_type": "code",
   "execution_count": 48,
   "metadata": {},
   "outputs": [],
   "source": [
    "# crawling with selenium\n",
    "browser = webdriver.Firefox()\n",
    "browser.get(url)\n",
    "lowest_price_str = browser.find_element_by_css_selector('[data-test-id=\"listing-price-dollars\"]').text"
   ]
  },
  {
   "cell_type": "code",
   "execution_count": 49,
   "metadata": {},
   "outputs": [
    {
     "data": {
      "text/plain": [
       "'$615'"
      ]
     },
     "execution_count": 49,
     "metadata": {},
     "output_type": "execute_result"
    }
   ],
   "source": [
    "lowest_price_str"
   ]
  },
  {
   "cell_type": "code",
   "execution_count": null,
   "metadata": {},
   "outputs": [],
   "source": [
    "str_prices = [span.text for span in spans]\n",
    "num_prices = [int(price.split('$')[-1]) for price in str_prices]\n",
    "print(num_prices)\n",
    "minimum = min(num_prices)\n",
    "results[idx] = minimum\n",
    "print('minimum price: {}'.format(minimum))"
   ]
  },
  {
   "cell_type": "code",
   "execution_count": null,
   "metadata": {},
   "outputs": [],
   "source": [
    "# ping expedia and get page HTML\n",
    "url = create_roundtrip_flight_request(start_date, end_date)\n",
    "page = requests.get(url, headers = {'User-agent': 'Mozilla/5.0'})"
   ]
  },
  {
   "cell_type": "code",
   "execution_count": null,
   "metadata": {},
   "outputs": [],
   "source": [
    "bs = bs4.BeautifulSoup(page.content, 'html.parser')\n",
    "spans = bs.findAll(name='span', attrs={'data-test-id':'listing-price-dollars'})\n",
    "str_prices = [span.text for span in spans]\n",
    "num_prices = [int(price.split('$')[-1]) for price in str_prices]\n",
    "num_prices"
   ]
  },
  {
   "cell_type": "code",
   "execution_count": null,
   "metadata": {},
   "outputs": [],
   "source": [
    "import datetime"
   ]
  },
  {
   "cell_type": "code",
   "execution_count": null,
   "metadata": {},
   "outputs": [],
   "source": [
    "def add_week(start_date):\n",
    "    \"\"\" start_date is datetime object\"\"\"\n",
    "    end_date = start_date + datetime.timedelta(days=7)\n",
    "    return end_date"
   ]
  },
  {
   "cell_type": "code",
   "execution_count": null,
   "metadata": {},
   "outputs": [],
   "source": [
    "start_date = datetime.date(year=2019, month=3, day=1)"
   ]
  },
  {
   "cell_type": "code",
   "execution_count": null,
   "metadata": {},
   "outputs": [],
   "source": [
    "def gen_daterange(start_day, days):\n",
    "    return [start_day + datetime.timedelta(days=i) for i in days]"
   ]
  },
  {
   "cell_type": "code",
   "execution_count": null,
   "metadata": {},
   "outputs": [],
   "source": [
    "def date2tuple(datetime_obj):\n",
    "    return datetime_obj.strftime(\"%Y/%m/%d\").split('/')"
   ]
  },
  {
   "cell_type": "code",
   "execution_count": null,
   "metadata": {},
   "outputs": [],
   "source": [
    "import numpy as np"
   ]
  },
  {
   "cell_type": "code",
   "execution_count": null,
   "metadata": {},
   "outputs": [],
   "source": [
    "import time"
   ]
  },
  {
   "cell_type": "code",
   "execution_count": null,
   "metadata": {},
   "outputs": [],
   "source": [
    "date_range = gen_daterange(start_date, days=[5, 10, 15, 20, 25])\n",
    "results = np.zeros(len(date_range))\n",
    "for idx, start_date in enumerate(date_range):\n",
    "    end_date = add_week(start_date)\n",
    "    \n",
    "    # get dates in tuple form\n",
    "    start = date2tuple(start_date)\n",
    "    end = date2tuple(end_date)\n",
    "    print(start, end)\n",
    "    \n",
    "    # ping expedia and get page HTML\n",
    "    print('pinging expedia...')\n",
    "    url = create_roundtrip_flight_request(start, end)\n",
    "    print(url)\n",
    "    page = requests.get(url, headers = {'User-agent': 'Mozilla/5.0'})\n",
    "    print(page.headers['Content-Type'])\n",
    "    print(page)\n",
    "    \n",
    "    print('parsing results...')\n",
    "    bs = bs4.BeautifulSoup(page.content, 'html.parser')\n",
    "    spans = bs.findAll(name='span', attrs={'data-test-id':'listing-price-dollars'})\n",
    "    try:\n",
    "        str_prices = [span.text for span in spans]\n",
    "        num_prices = [int(price.split('$')[-1]) for price in str_prices]\n",
    "        print(num_prices)\n",
    "        minimum = min(num_prices)\n",
    "        results[idx] = minimum\n",
    "        print('minimum price: {}'.format(minimum))\n",
    "    except:\n",
    "        print('something went wrong.')\n",
    "    \n",
    "    print(\"sleeping...\")\n",
    "    time.sleep(8)\n",
    "    "
   ]
  },
  {
   "cell_type": "code",
   "execution_count": null,
   "metadata": {},
   "outputs": [],
   "source": [
    "page"
   ]
  },
  {
   "cell_type": "code",
   "execution_count": null,
   "metadata": {},
   "outputs": [],
   "source": [
    "num_prices"
   ]
  },
  {
   "cell_type": "code",
   "execution_count": null,
   "metadata": {},
   "outputs": [],
   "source": [
    "min(num_prices)"
   ]
  },
  {
   "cell_type": "code",
   "execution_count": null,
   "metadata": {},
   "outputs": [],
   "source": [
    "min(num_prices)"
   ]
  },
  {
   "cell_type": "code",
   "execution_count": null,
   "metadata": {},
   "outputs": [],
   "source": [
    "start_date.strftime(\"%Y/%m/%d\").split('/')"
   ]
  },
  {
   "cell_type": "code",
   "execution_count": null,
   "metadata": {},
   "outputs": [],
   "source": []
  }
 ],
 "metadata": {
  "hide_input": false,
  "kernelspec": {
   "display_name": "NMSMExp_env",
   "language": "python",
   "name": "nmsmexp_env"
  },
  "language_info": {
   "codemirror_mode": {
    "name": "ipython",
    "version": 3
   },
   "file_extension": ".py",
   "mimetype": "text/x-python",
   "name": "python",
   "nbconvert_exporter": "python",
   "pygments_lexer": "ipython3",
   "version": "3.6.6"
  },
  "toc": {
   "base_numbering": 1,
   "nav_menu": {},
   "number_sections": true,
   "sideBar": true,
   "skip_h1_title": false,
   "title_cell": "Table of Contents",
   "title_sidebar": "Contents",
   "toc_cell": false,
   "toc_position": {},
   "toc_section_display": true,
   "toc_window_display": false
  }
 },
 "nbformat": 4,
 "nbformat_minor": 2
}
