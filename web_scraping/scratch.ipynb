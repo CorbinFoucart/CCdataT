{
 "cells": [
  {
   "cell_type": "code",
   "execution_count": 1,
   "metadata": {},
   "outputs": [],
   "source": [
    "import requests\n",
    "import bs4"
   ]
  },
  {
   "cell_type": "markdown",
   "metadata": {},
   "source": [
    "base_url = 'https://www.expedia.com/Flights-Search?flight-type=on&starDate=03%2F01%2F2019&endDate=03%2F04%2F2019&mode=search&trip=roundtrip&leg1=from%3ANew+York%2C+NY+%28JFK-John+F.+Kennedy+Intl.%29%2Cto%3AHong+Kong%2C+Hong+Kong+SAR+%28HKG-Hong+Kong+Intl.%29%2Cdeparture%3A03%2F01%2F2019TANYT&leg2=from%3AHong+Kong%2C+Hong+Kong+SAR+%28HKG-Hong+Kong+Intl.%29%2Cto%3ANew+York%2C+NY+%28JFK-John+F.+Kennedy+Intl.%29%2Cdeparture%3A03%2F04%2F2019TANYT&passengers=children%3A0%2Cadults%3A1%2Cseniors%3A0%2Cinfantinlap%3AY'\n"
   ]
  },
  {
   "cell_type": "code",
   "execution_count": 2,
   "metadata": {},
   "outputs": [],
   "source": [
    "start_date = ('03', '01', '2019')\n",
    "end_date = ('03', '08', '2019')"
   ]
  },
  {
   "cell_type": "code",
   "execution_count": 26,
   "metadata": {},
   "outputs": [],
   "source": [
    "def create_roundtrip_flight_request(start_date, end_date):\n",
    "    base_url = 'https://www.expedia.com/Flights-Search?'\n",
    "    start_end = 'flight-type=on&starDate={}%2F{}%2F{}&endDate={}%2F{}%2F{}'.format(*start_date, *end_date)\n",
    "    end_url = '&mode=search&trip=roundtrip&leg1=from%3ANew+York%2C+NY+%28JFK-John+F.+Kennedy+Intl.%29%2Cto%3AHong+Kong%2C+Hong+Kong+SAR+%28HKG-Hong+Kong+Intl.%29%2Cdeparture%3A03%2F01%2F2019TANYT&leg2=from%3AHong+Kong%2C+Hong+Kong+SAR+%28HKG-Hong+Kong+Intl.%29%2Cto%3ANew+York%2C+NY+%28JFK-John+F.+Kennedy+Intl.%29%2Cdeparture%3A03%2F04%2F2019TANYT&passengers=children%3A0%2Cadults%3A1%2Cseniors%3A0%2Cinfantinlap%3AY'\n",
    "    return base_url + start_end + end_url\n"
   ]
  },
  {
   "cell_type": "code",
   "execution_count": 4,
   "metadata": {},
   "outputs": [],
   "source": [
    "# ping expedia and get page HTML\n",
    "url = create_roundtrip_flight_request(start_date, end_date)\n",
    "page = requests.get(url, headers = {'User-agent': 'Mozilla/5.0'})"
   ]
  },
  {
   "cell_type": "code",
   "execution_count": 5,
   "metadata": {},
   "outputs": [
    {
     "data": {
      "text/plain": [
       "[768, 768, 768, 768, 796]"
      ]
     },
     "execution_count": 5,
     "metadata": {},
     "output_type": "execute_result"
    }
   ],
   "source": [
    "bs = bs4.BeautifulSoup(page.content, 'html.parser')\n",
    "spans = bs.findAll(name='span', attrs={'data-test-id':'listing-price-dollars'})\n",
    "str_prices = [span.text for span in spans]\n",
    "num_prices = [int(price.split('$')[-1]) for price in str_prices]\n",
    "num_prices"
   ]
  },
  {
   "cell_type": "code",
   "execution_count": 6,
   "metadata": {},
   "outputs": [],
   "source": [
    "import datetime"
   ]
  },
  {
   "cell_type": "code",
   "execution_count": 7,
   "metadata": {},
   "outputs": [],
   "source": [
    "def add_week(start_date):\n",
    "    \"\"\" start_date is datetime object\"\"\"\n",
    "    end_date = start_date + datetime.timedelta(days=7)\n",
    "    return end_date"
   ]
  },
  {
   "cell_type": "code",
   "execution_count": 8,
   "metadata": {},
   "outputs": [],
   "source": [
    "start_date = datetime.date(year=2019, month=3, day=1)"
   ]
  },
  {
   "cell_type": "code",
   "execution_count": 18,
   "metadata": {},
   "outputs": [],
   "source": [
    "def gen_daterange(start_day, days):\n",
    "    return [start_day + datetime.timedelta(days=i) for i in days]"
   ]
  },
  {
   "cell_type": "code",
   "execution_count": 19,
   "metadata": {},
   "outputs": [],
   "source": [
    "def date2tuple(datetime_obj):\n",
    "    return datetime_obj.strftime(\"%Y/%m/%d\").split('/')"
   ]
  },
  {
   "cell_type": "code",
   "execution_count": 20,
   "metadata": {},
   "outputs": [],
   "source": [
    "import numpy as np"
   ]
  },
  {
   "cell_type": "code",
   "execution_count": 21,
   "metadata": {},
   "outputs": [],
   "source": [
    "import time"
   ]
  },
  {
   "cell_type": "code",
   "execution_count": 27,
   "metadata": {},
   "outputs": [
    {
     "name": "stdout",
     "output_type": "stream",
     "text": [
      "['2019', '05', '24'] ['2019', '05', '31']\n",
      "pinging expedia...\n",
      "https://www.expedia.com/Flights-Search?flight-type=on&starDate=2019%2F05%2F24&endDate=2019%2F05%2F31&mode=search&trip=roundtrip&leg1=from%3ANew+York%2C+NY+%28JFK-John+F.+Kennedy+Intl.%29%2Cto%3AHong+Kong%2C+Hong+Kong+SAR+%28HKG-Hong+Kong+Intl.%29%2Cdeparture%3A03%2F01%2F2019TANYT&leg2=from%3AHong+Kong%2C+Hong+Kong+SAR+%28HKG-Hong+Kong+Intl.%29%2Cto%3ANew+York%2C+NY+%28JFK-John+F.+Kennedy+Intl.%29%2Cdeparture%3A03%2F04%2F2019TANYT&passengers=children%3A0%2Cadults%3A1%2Cseniors%3A0%2Cinfantinlap%3AY\n",
      "text/html;charset=UTF-8\n",
      "<Response [200]>\n",
      "parsing results...\n",
      "[768, 768, 768, 768, 796]\n",
      "minimum price: 768\n",
      "sleeping...\n",
      "['2019', '05', '29'] ['2019', '06', '05']\n",
      "pinging expedia...\n",
      "https://www.expedia.com/Flights-Search?flight-type=on&starDate=2019%2F05%2F29&endDate=2019%2F06%2F05&mode=search&trip=roundtrip&leg1=from%3ANew+York%2C+NY+%28JFK-John+F.+Kennedy+Intl.%29%2Cto%3AHong+Kong%2C+Hong+Kong+SAR+%28HKG-Hong+Kong+Intl.%29%2Cdeparture%3A03%2F01%2F2019TANYT&leg2=from%3AHong+Kong%2C+Hong+Kong+SAR+%28HKG-Hong+Kong+Intl.%29%2Cto%3ANew+York%2C+NY+%28JFK-John+F.+Kennedy+Intl.%29%2Cdeparture%3A03%2F04%2F2019TANYT&passengers=children%3A0%2Cadults%3A1%2Cseniors%3A0%2Cinfantinlap%3AY\n",
      "text/html;charset=UTF-8\n",
      "<Response [200]>\n",
      "parsing results...\n",
      "[]\n",
      "something went wrong.\n",
      "sleeping...\n",
      "['2019', '06', '03'] ['2019', '06', '10']\n",
      "pinging expedia...\n",
      "https://www.expedia.com/Flights-Search?flight-type=on&starDate=2019%2F06%2F03&endDate=2019%2F06%2F10&mode=search&trip=roundtrip&leg1=from%3ANew+York%2C+NY+%28JFK-John+F.+Kennedy+Intl.%29%2Cto%3AHong+Kong%2C+Hong+Kong+SAR+%28HKG-Hong+Kong+Intl.%29%2Cdeparture%3A03%2F01%2F2019TANYT&leg2=from%3AHong+Kong%2C+Hong+Kong+SAR+%28HKG-Hong+Kong+Intl.%29%2Cto%3ANew+York%2C+NY+%28JFK-John+F.+Kennedy+Intl.%29%2Cdeparture%3A03%2F04%2F2019TANYT&passengers=children%3A0%2Cadults%3A1%2Cseniors%3A0%2Cinfantinlap%3AY\n",
      "text/html;charset=UTF-8\n",
      "<Response [200]>\n",
      "parsing results...\n",
      "[768, 768, 768, 768, 796]\n",
      "minimum price: 768\n",
      "sleeping...\n",
      "['2019', '06', '08'] ['2019', '06', '15']\n",
      "pinging expedia...\n",
      "https://www.expedia.com/Flights-Search?flight-type=on&starDate=2019%2F06%2F08&endDate=2019%2F06%2F15&mode=search&trip=roundtrip&leg1=from%3ANew+York%2C+NY+%28JFK-John+F.+Kennedy+Intl.%29%2Cto%3AHong+Kong%2C+Hong+Kong+SAR+%28HKG-Hong+Kong+Intl.%29%2Cdeparture%3A03%2F01%2F2019TANYT&leg2=from%3AHong+Kong%2C+Hong+Kong+SAR+%28HKG-Hong+Kong+Intl.%29%2Cto%3ANew+York%2C+NY+%28JFK-John+F.+Kennedy+Intl.%29%2Cdeparture%3A03%2F04%2F2019TANYT&passengers=children%3A0%2Cadults%3A1%2Cseniors%3A0%2Cinfantinlap%3AY\n",
      "text/html;charset=UTF-8\n",
      "<Response [200]>\n",
      "parsing results...\n",
      "[768, 768, 768, 768, 796]\n",
      "minimum price: 768\n",
      "sleeping...\n",
      "['2019', '06', '13'] ['2019', '06', '20']\n",
      "pinging expedia...\n",
      "https://www.expedia.com/Flights-Search?flight-type=on&starDate=2019%2F06%2F13&endDate=2019%2F06%2F20&mode=search&trip=roundtrip&leg1=from%3ANew+York%2C+NY+%28JFK-John+F.+Kennedy+Intl.%29%2Cto%3AHong+Kong%2C+Hong+Kong+SAR+%28HKG-Hong+Kong+Intl.%29%2Cdeparture%3A03%2F01%2F2019TANYT&leg2=from%3AHong+Kong%2C+Hong+Kong+SAR+%28HKG-Hong+Kong+Intl.%29%2Cto%3ANew+York%2C+NY+%28JFK-John+F.+Kennedy+Intl.%29%2Cdeparture%3A03%2F04%2F2019TANYT&passengers=children%3A0%2Cadults%3A1%2Cseniors%3A0%2Cinfantinlap%3AY\n",
      "text/html;charset=UTF-8\n",
      "<Response [200]>\n",
      "parsing results...\n",
      "[768, 768, 768, 768, 796]\n",
      "minimum price: 768\n",
      "sleeping...\n"
     ]
    }
   ],
   "source": [
    "date_range = gen_daterange(start_date, days=[5, 10, 15, 20, 25])\n",
    "results = np.zeros(len(date_range))\n",
    "for idx, start_date in enumerate(date_range):\n",
    "    end_date = add_week(start_date)\n",
    "    \n",
    "    # get dates in tuple form\n",
    "    start = date2tuple(start_date)\n",
    "    end = date2tuple(end_date)\n",
    "    print(start, end)\n",
    "    \n",
    "    # ping expedia and get page HTML\n",
    "    print('pinging expedia...')\n",
    "    url = create_roundtrip_flight_request(start, end)\n",
    "    print(url)\n",
    "    page = requests.get(url, headers = {'User-agent': 'Mozilla/5.0'})\n",
    "    print(page.headers['Content-Type'])\n",
    "    print(page)\n",
    "    \n",
    "    print('parsing results...')\n",
    "    bs = bs4.BeautifulSoup(page.content, 'html.parser')\n",
    "    spans = bs.findAll(name='span', attrs={'data-test-id':'listing-price-dollars'})\n",
    "    try:\n",
    "        str_prices = [span.text for span in spans]\n",
    "        num_prices = [int(price.split('$')[-1]) for price in str_prices]\n",
    "        print(num_prices)\n",
    "        minimum = min(num_prices)\n",
    "        results[idx] = minimum\n",
    "        print('minimum price: {}'.format(minimum))\n",
    "    except:\n",
    "        print('something went wrong.')\n",
    "    \n",
    "    print(\"sleeping...\")\n",
    "    time.sleep(8)\n",
    "    "
   ]
  },
  {
   "cell_type": "code",
   "execution_count": null,
   "metadata": {},
   "outputs": [],
   "source": [
    "page"
   ]
  },
  {
   "cell_type": "code",
   "execution_count": null,
   "metadata": {},
   "outputs": [],
   "source": [
    "num_prices"
   ]
  },
  {
   "cell_type": "code",
   "execution_count": null,
   "metadata": {},
   "outputs": [],
   "source": [
    "min(num_prices)"
   ]
  },
  {
   "cell_type": "code",
   "execution_count": null,
   "metadata": {},
   "outputs": [],
   "source": [
    "min(num_prices)"
   ]
  },
  {
   "cell_type": "code",
   "execution_count": null,
   "metadata": {},
   "outputs": [],
   "source": [
    "start_date.strftime(\"%Y/%m/%d\").split('/')"
   ]
  },
  {
   "cell_type": "code",
   "execution_count": null,
   "metadata": {},
   "outputs": [],
   "source": []
  }
 ],
 "metadata": {
  "hide_input": false,
  "kernelspec": {
   "display_name": "NMSMExp_env",
   "language": "python",
   "name": "nmsmexp_env"
  },
  "language_info": {
   "codemirror_mode": {
    "name": "ipython",
    "version": 3
   },
   "file_extension": ".py",
   "mimetype": "text/x-python",
   "name": "python",
   "nbconvert_exporter": "python",
   "pygments_lexer": "ipython3",
   "version": "3.6.6"
  },
  "toc": {
   "base_numbering": 1,
   "nav_menu": {},
   "number_sections": true,
   "sideBar": true,
   "skip_h1_title": false,
   "title_cell": "Table of Contents",
   "title_sidebar": "Contents",
   "toc_cell": false,
   "toc_position": {},
   "toc_section_display": true,
   "toc_window_display": false
  }
 },
 "nbformat": 4,
 "nbformat_minor": 2
}
