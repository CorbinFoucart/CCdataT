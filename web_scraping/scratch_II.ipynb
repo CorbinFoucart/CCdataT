{
 "cells": [
  {
   "cell_type": "code",
   "execution_count": 34,
   "metadata": {},
   "outputs": [],
   "source": [
    "import requests\n",
    "from selenium import webdriver\n",
    "import datetime\n",
    "import time\n",
    "\n",
    "import numpy as np\n",
    "import pandas as pd"
   ]
  },
  {
   "cell_type": "code",
   "execution_count": 59,
   "metadata": {},
   "outputs": [],
   "source": [
    "import matplotlib.pyplot as plt"
   ]
  },
  {
   "cell_type": "code",
   "execution_count": 3,
   "metadata": {},
   "outputs": [],
   "source": [
    "# create a request url from JFK to Hong Kong, roundtrip\n",
    "def create_request_url(start_date, end_date):\n",
    "    base_url = 'https://www.expedia.com/Flights-Search?'\n",
    "    flight_dates = 'flighttype=on&starDate={}%2F{}%2F{}&endDate={}%2F{}%2F{}&mode=search&trip=roundtrip'.format(*start_date,*end_date)\n",
    "    leg1 = '&leg1=from%3ANew+York%2C+NY+%28JFKJohn+F.+Kennedy+Intl.%29%2Cto%3AHong+Kong%2C+Hong+Kong+SAR+%28HKG-Hong+Kong+Intl.%29%2Cdeparture%3A{}%2F{}%2F{}TANYT'.format(*start_date)\n",
    "    leg2 = '&leg2=from%3AHong+Kong%2C+Hong+Kong+SAR+%28HKG-Hong+Kong+Intl.%29%2Cto%3ANew+York%2C+NY+%28JFK-John+F.+Kennedy+Intl.%29%2Cdeparture%3A{}%2F{}%2F{}TANYT'.format(*end_date)\n",
    "    passenger_options = '&passengers=children%3A0%2Cadults%3A1%2Cseniors%3A0%2Cinfantinlap%3AY'\n",
    "    request_url = base_url + flight_dates + leg1 + leg2 + passenger_options\n",
    "    return request_url"
   ]
  },
  {
   "cell_type": "code",
   "execution_count": 5,
   "metadata": {},
   "outputs": [],
   "source": [
    "start_date = ('04', '01', '2019')\n",
    "end_date = ('04', '08', '2019')\n",
    "\n",
    "url = create_request_url(start_date, end_date)\n",
    "browser.get(url)\n",
    "lowest_price_str = browser.find_element_by_css_selector('[data-test-id=\"listing-price-dollars\"]').text"
   ]
  },
  {
   "cell_type": "code",
   "execution_count": 9,
   "metadata": {},
   "outputs": [],
   "source": [
    "lowest_price = int(lowest_price_str.split('$')[-1])"
   ]
  },
  {
   "cell_type": "code",
   "execution_count": 10,
   "metadata": {},
   "outputs": [
    {
     "data": {
      "text/plain": [
       "567"
      ]
     },
     "execution_count": 10,
     "metadata": {},
     "output_type": "execute_result"
    }
   ],
   "source": [
    "lowest_price"
   ]
  },
  {
   "cell_type": "code",
   "execution_count": 23,
   "metadata": {},
   "outputs": [],
   "source": [
    "def date2tuple(datetime_obj):\n",
    "    return datetime_obj.strftime(\"%m/%d/%Y\").split('/')\n",
    "\n",
    "def gen_daterange(start_day, days):\n",
    "    return [start_day + datetime.timedelta(days=i) for i in days]\n",
    "\n",
    "def add_week(start_date):\n",
    "    \"\"\" start_date is datetime object\"\"\"\n",
    "    end_date = start_date + datetime.timedelta(days=7)\n",
    "    return end_date"
   ]
  },
  {
   "cell_type": "code",
   "execution_count": 98,
   "metadata": {},
   "outputs": [],
   "source": [
    "# start up a Firefox session\n",
    "browser = webdriver.Firefox()"
   ]
  },
  {
   "cell_type": "code",
   "execution_count": 99,
   "metadata": {},
   "outputs": [
    {
     "name": "stdout",
     "output_type": "stream",
     "text": [
      "2019-02-01 flight price: 867\n",
      "2019-02-02 flight price: 901\n",
      "2019-02-03 flight price: 787\n",
      "2019-02-04 flight price: 660\n",
      "2019-02-05 flight price: 660\n",
      "2019-02-06 flight price: 740\n",
      "2019-02-07 flight price: 740\n",
      "2019-02-08 flight price: 797\n",
      "2019-02-09 flight price: 1126\n",
      "2019-02-10 flight price: 781\n",
      "2019-02-11 flight price: 930\n",
      "2019-02-12 flight price: 674\n",
      "2019-02-13 flight price: 740\n",
      "2019-02-14 flight price: 740\n",
      "2019-02-15 flight price: 1002\n",
      "2019-02-16 flight price: 1096\n",
      "2019-02-17 flight price: 873\n",
      "2019-02-18 flight price: 860\n",
      "2019-02-19 flight price: 640\n",
      "2019-02-20 flight price: 740\n",
      "2019-02-21 flight price: 665\n",
      "2019-02-22 flight price: 730\n",
      "2019-02-23 flight price: 740\n",
      "2019-02-24 flight price: 740\n",
      "2019-02-25 flight price: 640\n",
      "2019-02-26 flight price: 567\n",
      "2019-02-27 flight price: 640\n",
      "2019-02-28 flight price: 520\n",
      "2019-03-01 flight price: 796\n",
      "2019-03-02 flight price: 828\n",
      "2019-03-03 flight price: 740\n",
      "2019-03-04 flight price: 637\n",
      "2019-03-05 flight price: 637\n",
      "2019-03-06 flight price: 637\n",
      "2019-03-07 flight price: 740\n",
      "2019-03-08 flight price: 828\n",
      "2019-03-09 flight price: 790\n",
      "2019-03-10 flight price: 615\n",
      "2019-03-11 flight price: 691\n",
      "2019-03-12 flight price: 656\n",
      "2019-03-13 flight price: 656\n",
      "2019-03-14 flight price: 567\n",
      "2019-03-15 flight price: 567\n",
      "2019-03-16 flight price: 740\n",
      "2019-03-17 flight price: 567\n",
      "2019-03-18 flight price: 656\n",
      "2019-03-19 flight price: 545\n",
      "2019-03-20 flight price: 637\n",
      "2019-03-21 flight price: 715\n",
      "2019-03-22 flight price: 567\n",
      "2019-03-23 flight price: 740\n",
      "2019-03-24 flight price: 619\n",
      "2019-03-25 flight price: 740\n",
      "2019-03-26 flight price: 619\n",
      "2019-03-27 flight price: 619\n",
      "2019-03-28 flight price: 638\n",
      "2019-03-29 flight price: 682\n",
      "2019-03-30 flight price: 682\n",
      "2019-03-31 flight price: 619\n",
      "2019-04-01 flight price: 619\n",
      "2019-04-02 flight price: 619\n",
      "2019-04-03 flight price: 619\n",
      "2019-04-04 flight price: 728\n",
      "2019-04-05 flight price: 728\n",
      "2019-04-06 flight price: 835\n",
      "2019-04-07 flight price: 730\n",
      "2019-04-08 flight price: 640\n",
      "2019-04-09 flight price: 619\n",
      "2019-04-10 flight price: 806\n",
      "2019-04-11 flight price: 746\n",
      "2019-04-12 flight price: 810\n",
      "2019-04-13 flight price: 740\n",
      "2019-04-14 flight price: 567\n",
      "2019-04-15 flight price: 567\n",
      "2019-04-16 flight price: 545\n",
      "2019-04-17 flight price: 619\n",
      "2019-04-18 flight price: 651\n",
      "2019-04-19 flight price: 775\n",
      "2019-04-20 flight price: 915\n",
      "2019-04-21 flight price: 781\n",
      "2019-04-22 flight price: 619\n",
      "2019-04-23 flight price: 638\n",
      "2019-04-24 flight price: 640\n",
      "2019-04-25 flight price: 665\n",
      "2019-04-26 flight price: 682\n",
      "2019-04-27 flight price: 682\n",
      "2019-04-28 flight price: 619\n",
      "2019-04-29 flight price: 567\n",
      "2019-04-30 flight price: 567\n",
      "2019-05-01 flight price: 615\n",
      "2019-05-02 flight price: 619\n",
      "2019-05-03 flight price: 690\n",
      "2019-05-04 flight price: 690\n",
      "2019-05-05 flight price: 615\n",
      "2019-05-06 flight price: 635\n",
      "2019-05-07 flight price: 635\n",
      "2019-05-08 flight price: 640\n",
      "2019-05-09 flight price: 635\n",
      "2019-05-10 flight price: 690\n",
      "2019-05-11 flight price: 690\n",
      "2019-05-12 flight price: 690\n",
      "2019-05-13 flight price: 727\n",
      "2019-05-14 flight price: 740\n",
      "2019-05-15 flight price: 740\n",
      "2019-05-16 flight price: 740\n",
      "2019-05-17 flight price: 796\n",
      "2019-05-18 flight price: 842\n",
      "2019-05-19 flight price: 833\n",
      "2019-05-20 flight price: 740\n",
      "2019-05-21 flight price: 805\n",
      "2019-05-22 flight price: 805\n",
      "2019-05-23 flight price: 805\n",
      "2019-05-24 flight price: 907\n",
      "2019-05-25 flight price: 924\n",
      "2019-05-26 flight price: 851\n",
      "2019-05-27 flight price: 851\n",
      "2019-05-28 flight price: 805\n",
      "2019-05-29 flight price: 805\n",
      "2019-05-30 flight price: 940\n",
      "2019-05-31 flight price: 990\n",
      "2019-06-01 flight price: 960\n",
      "2019-06-02 flight price: 990\n",
      "2019-06-03 flight price: 940\n",
      "2019-06-04 flight price: 884\n",
      "2019-06-05 flight price: 940\n",
      "2019-06-06 flight price: 940\n",
      "2019-06-07 flight price: 990\n",
      "2019-06-08 flight price: 990\n",
      "2019-06-09 flight price: 990\n",
      "2019-06-10 flight price: 884\n",
      "2019-06-11 flight price: 940\n",
      "2019-06-12 flight price: 884\n",
      "2019-06-13 flight price: 884\n",
      "2019-06-14 flight price: 990\n",
      "2019-06-15 flight price: 1042\n",
      "2019-06-16 flight price: 990\n",
      "2019-06-17 flight price: 884\n",
      "2019-06-18 flight price: 940\n",
      "2019-06-19 flight price: 940\n",
      "2019-06-20 flight price: 940\n",
      "2019-06-21 flight price: 990\n",
      "2019-06-22 flight price: 990\n",
      "2019-06-23 flight price: 1061\n",
      "2019-06-24 flight price: 1061\n",
      "2019-06-25 flight price: 1061\n",
      "2019-06-26 flight price: 1061\n",
      "2019-06-27 flight price: 1061\n",
      "2019-06-28 flight price: 1061\n",
      "2019-06-29 flight price: 990\n",
      "2019-06-30 flight price: 1061\n",
      "2019-07-01 flight price: 973\n",
      "2019-07-02 flight price: 902\n",
      "2019-07-03 flight price: 940\n",
      "2019-07-04 flight price: 814\n",
      "2019-07-05 flight price: 886\n",
      "2019-07-06 flight price: 963\n",
      "2019-07-07 flight price: 987\n",
      "2019-07-08 flight price: 895\n",
      "2019-07-09 flight price: 895\n",
      "2019-07-10 flight price: 895\n",
      "2019-07-11 flight price: 895\n",
      "2019-07-12 flight price: 990\n",
      "2019-07-13 flight price: 966\n",
      "2019-07-14 flight price: 902\n",
      "2019-07-15 flight price: 902\n",
      "2019-07-16 flight price: 895\n",
      "2019-07-17 flight price: 895\n",
      "2019-07-18 flight price: 895\n",
      "2019-07-19 flight price: 981\n",
      "2019-07-20 flight price: 1015\n",
      "2019-07-21 flight price: 902\n",
      "2019-07-22 flight price: 902\n",
      "2019-07-23 flight price: 902\n",
      "2019-07-24 flight price: 929\n",
      "2019-07-25 flight price: 902\n",
      "2019-07-26 flight price: 997\n",
      "2019-07-27 flight price: 1015\n",
      "2019-07-28 flight price: 973\n",
      "2019-07-29 flight price: 971\n",
      "2019-07-30 flight price: 987\n",
      "2019-07-31 flight price: 902\n",
      "2019-08-01 flight price: 902\n",
      "2019-08-02 flight price: 990\n",
      "2019-08-03 flight price: 966\n",
      "2019-08-04 flight price: 973\n",
      "2019-08-05 flight price: 902\n",
      "2019-08-06 flight price: 902\n",
      "2019-08-07 flight price: 902\n",
      "2019-08-08 flight price: 938\n",
      "2019-08-09 flight price: 986\n",
      "2019-08-10 flight price: 990\n",
      "2019-08-11 flight price: 973\n",
      "2019-08-12 flight price: 929\n",
      "2019-08-13 flight price: 938\n",
      "2019-08-14 flight price: 929\n",
      "2019-08-15 flight price: 938\n",
      "2019-08-16 flight price: 940\n",
      "2019-08-17 flight price: 971\n",
      "2019-08-18 flight price: 973\n",
      "2019-08-19 flight price: 831\n"
     ]
    }
   ],
   "source": [
    "# from March 1, 2019\n",
    "start_dt = datetime.date(year=2019, month=2, day=1)\n",
    "advance_search_days = 200\n",
    "search_range = gen_daterange(start_dt, days=range(advance_search_days))\n",
    "\n",
    "# collect info in a DataFrame\n",
    "min_prices = []\n",
    "for search_date in search_range:\n",
    "    vacation_start = search_date\n",
    "    vacation_end = add_week(vacation_start)\n",
    "    \n",
    "    url = create_request_url(date2tuple(vacation_start), date2tuple(vacation_end))\n",
    "    browser.get(url)\n",
    "    time.sleep(15)\n",
    "    try:\n",
    "        price_elements = browser.find_elements_by_css_selector('[data-test-id=\"listing-price-dollars\"]')\n",
    "        price_strings = [item.text for item in price_elements]\n",
    "        prices = np.asarray([int(string.replace(',', '').replace('$', '')) for string in price_strings])\n",
    "        min_prices.append(np.min(prices))\n",
    "    except:\n",
    "        min_prices.append(np.nan)\n",
    "    \n",
    "    print(vacation_start, 'flight price: {}'.format(min_prices[-1]))"
   ]
  },
  {
   "cell_type": "code",
   "execution_count": 104,
   "metadata": {},
   "outputs": [],
   "source": [
    "timeseries = pd.Series(min_prices, search_range)"
   ]
  },
  {
   "cell_type": "code",
   "execution_count": 105,
   "metadata": {},
   "outputs": [],
   "source": [
    "import seaborn as sns"
   ]
  },
  {
   "cell_type": "code",
   "execution_count": 106,
   "metadata": {},
   "outputs": [],
   "source": [
    "sns.set()"
   ]
  },
  {
   "cell_type": "code",
   "execution_count": 107,
   "metadata": {},
   "outputs": [
    {
     "data": {
      "image/png": "[encoded data removed]",
      "text/plain": [
       "<Figure size 1080x432 with 1 Axes>"
      ]
     },
     "metadata": {},
     "output_type": "display_data"
    }
   ],
   "source": [
    "fig, ax = plt.subplots(figsize=(15, 6))\n",
    "ax.plot(timeseries)\n",
    "\n",
    "# rotate and align tick labels so they look better\n",
    "fig.autofmt_xdate()\n",
    "ax.set_xlabel('departure date')\n",
    "ax.set_ylabel('price (USD)')\n",
    "ax.set_title('week vacation: roundtrip flight prices: JFK -> HKG, Expedia')\n",
    "plt.savefig('prices.png', bbox_inches='tight')\n",
    "plt.show()"
   ]
  },
  {
   "cell_type": "code",
   "execution_count": null,
   "metadata": {},
   "outputs": [],
   "source": []
  }
 ],
 "metadata": {
  "kernelspec": {
   "display_name": "Python [conda env:NMSMExp_env]",
   "language": "python",
   "name": "conda-env-NMSMExp_env-py"
  },
  "language_info": {
   "codemirror_mode": {
    "name": "ipython",
    "version": 3
   },
   "file_extension": ".py",
   "mimetype": "text/x-python",
   "name": "python",
   "nbconvert_exporter": "python",
   "pygments_lexer": "ipython3",
   "version": "3.6.6"
  },
  "toc": {
   "base_numbering": 1,
   "nav_menu": {},
   "number_sections": true,
   "sideBar": true,
   "skip_h1_title": false,
   "title_cell": "Table of Contents",
   "title_sidebar": "Contents",
   "toc_cell": false,
   "toc_position": {},
   "toc_section_display": true,
   "toc_window_display": false
  }
 },
 "nbformat": 4,
 "nbformat_minor": 2
}
